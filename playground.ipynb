{
 "cells": [
  {
   "cell_type": "code",
   "execution_count": 24,
   "id": "f0dba1d4",
   "metadata": {},
   "outputs": [],
   "source": [
    "import subprocess\n",
    "import re\n",
    "import json\n",
    "\n",
    "def get_monitor_info():\n",
    "    monitors_raw = subprocess.check_output([\"xrandr\", \"--listmonitors\"], text=True).strip().split('\\n')[1:]\n",
    "    monitors = []\n",
    "    for line in monitors_raw:\n",
    "        parts = re.split(r'\\s+', line.strip())\n",
    "        monitor_id = parts[1].lstrip('+*')\n",
    "        width_px = int(parts[2].split('+')[0].split('x')[0].split('/')[0])\n",
    "        height_px = int(parts[2].split('+')[0].split('x')[1].split('/')[0])\n",
    "        aspect_ratio = round(width_px / height_px, 2) if height_px else None\n",
    "        monitors.append({\n",
    "            \"monitor_id\": monitor_id,\n",
    "            \"resolution\": f\"{width_px}x{height_px}\",\n",
    "            \"aspect_ratio\": aspect_ratio,\n",
    "        })\n",
    "    return monitors\n",
    "\n",
    "def get_window_info():\n",
    "    windows_raw = subprocess.check_output([\"wmctrl\", \"-lGx\"], text=True).strip().split('\\n')\n",
    "    windows = []\n",
    "    for line in windows_raw:\n",
    "        parts = line.split(None, 9)\n",
    "        if len(parts) < 10:\n",
    "            continue\n",
    "        window_id = parts[0]\n",
    "        x, y, w, h = map(int, parts[2:6])\n",
    "        wm_class = parts[6]  # e.g. 'google-chrome.Google-chrome'\n",
    "        \n",
    "        window_name = parts[9].strip()\n",
    "        aspect_ratio = round(w / h, 2) if h else None\n",
    "        app_name = wm_class.split('.')[0] if wm_class else None\n",
    "        windows.append({\n",
    "            \"window_id\": window_id,\n",
    "            \"window_name\": window_name,\n",
    "            \"application\": app_name,\n",
    "            \"resolution\": f\"{w}x{h}\",\n",
    "            \"aspect_ratio\": aspect_ratio,\n",
    "        })\n",
    "    return windows\n",
    "\n",
    "def list_monitors_and_windows_json():\n",
    "    monitors = get_monitor_info()\n",
    "    windows = get_window_info()\n",
    "    return {\"monitors\": monitors, \"windows\": windows}\n"
   ]
  },
  {
   "cell_type": "code",
   "execution_count": 26,
   "id": "e6bd1cbd",
   "metadata": {},
   "outputs": [
    {
     "data": {
      "text/plain": [
       "{'monitors': [{'monitor_id': 'HDMI-1',\n",
       "   'resolution': '1920x1080',\n",
       "   'aspect_ratio': 1.78},\n",
       "  {'monitor_id': 'eDP-1', 'resolution': '1600x900', 'aspect_ratio': 1.78}],\n",
       " 'windows': [{'window_id': '0x02c0001d',\n",
       "   'window_name': 'Stream - Google Chrome',\n",
       "   'application': 'google-chrome',\n",
       "   'resolution': '1600x857',\n",
       "   'aspect_ratio': 1.87},\n",
       "  {'window_id': '0x03e00004',\n",
       "   'window_name': 'playground.ipynb - Untitled (Workspace) - Visual Studio Code',\n",
       "   'application': 'code',\n",
       "   'resolution': '1920x1052',\n",
       "   'aspect_ratio': 1.83},\n",
       "  {'window_id': '0x02c00075',\n",
       "   'window_name': '- ESIGN-Software-Frontend [GitHub] - Visual Studio Code - GitHub - Google Chrome',\n",
       "   'application': 'google-chrome',\n",
       "   'resolution': '1920x1009',\n",
       "   'aspect_ratio': 1.9},\n",
       "  {'window_id': '0x02e09122',\n",
       "   'window_name': 'Remote Desktop Client',\n",
       "   'application': 'org',\n",
       "   'resolution': '1920x1052',\n",
       "   'aspect_ratio': 1.83},\n",
       "  {'window_id': '0x02e1c4f8',\n",
       "   'window_name': 'Connect',\n",
       "   'application': 'org',\n",
       "   'resolution': '1920x1009',\n",
       "   'aspect_ratio': 1.9},\n",
       "  {'window_id': '0x02c000cc',\n",
       "   'window_name': '- Backlog - Jira - Google Chrome',\n",
       "   'application': 'google-chrome',\n",
       "   'resolution': '1920x1009',\n",
       "   'aspect_ratio': 1.9},\n",
       "  {'window_id': '0x04e00004',\n",
       "   'window_name': 'Name SpectraCtrl (Draft) - Text Editor',\n",
       "   'application': 'gnome-text-editor',\n",
       "   'resolution': '1082x1022',\n",
       "   'aspect_ratio': 1.06},\n",
       "  {'window_id': '0x04c00008',\n",
       "   'window_name': '~',\n",
       "   'application': 'qterminal',\n",
       "   'resolution': '1920x1009',\n",
       "   'aspect_ratio': 1.9},\n",
       "  {'window_id': '0x05600004',\n",
       "   'window_name': '(Workspace) - Cursor',\n",
       "   'application': 'cursor',\n",
       "   'resolution': '1600x900',\n",
       "   'aspect_ratio': 1.78},\n",
       "  {'window_id': '0x06600007',\n",
       "   'window_name': '1 - Mousepad',\n",
       "   'application': 'mousepad',\n",
       "   'resolution': '1920x1009',\n",
       "   'aspect_ratio': 1.9},\n",
       "  {'window_id': '0x02c00187',\n",
       "   'window_name': 'would need a software for linux gnome xorg . where user can share there window/screen to web . it will create a link like http://192.168.0.100:8000/window-name-or-id and user can visit this link with another pc and he can view and control everything he wants . the tech stack will be , python fastapi and html css . use web for the gui. - Jules - Google Chrome',\n",
       "   'application': 'google-chrome',\n",
       "   'resolution': '1920x1009',\n",
       "   'aspect_ratio': 1.9},\n",
       "  {'window_id': '0x06200008',\n",
       "   'window_name': '~',\n",
       "   'application': 'qterminal',\n",
       "   'resolution': '1920x1009',\n",
       "   'aspect_ratio': 1.9},\n",
       "  {'window_id': '0x02c00191',\n",
       "   'window_name': '| Trello - Google Chrome',\n",
       "   'application': 'google-chrome',\n",
       "   'resolution': '1920x1009',\n",
       "   'aspect_ratio': 1.9},\n",
       "  {'window_id': '0x02c001fe',\n",
       "   'window_name': '- localhost:8016/',\n",
       "   'application': 'google-chrome',\n",
       "   'resolution': '1440x966',\n",
       "   'aspect_ratio': 1.49}]}"
      ]
     },
     "execution_count": 26,
     "metadata": {},
     "output_type": "execute_result"
    }
   ],
   "source": [
    "list_monitors_and_windows_json()"
   ]
  },
  {
   "cell_type": "code",
   "execution_count": 30,
   "id": "ed8f8d17",
   "metadata": {},
   "outputs": [
    {
     "ename": "ValueError",
     "evalue": "Monitor eDP-1 not found",
     "output_type": "error",
     "traceback": [
      "\u001b[31m---------------------------------------------------------------------------\u001b[39m",
      "\u001b[31mValueError\u001b[39m                                Traceback (most recent call last)",
      "\u001b[36mCell\u001b[39m\u001b[36m \u001b[39m\u001b[32mIn[30]\u001b[39m\u001b[32m, line 11\u001b[39m\n\u001b[32m      9\u001b[39m                 \u001b[38;5;28;01mreturn\u001b[39;00m output\n\u001b[32m     10\u001b[39m     \u001b[38;5;28;01mraise\u001b[39;00m \u001b[38;5;167;01mValueError\u001b[39;00m(\u001b[33mf\u001b[39m\u001b[33m\"\u001b[39m\u001b[33mMonitor \u001b[39m\u001b[38;5;132;01m{\u001b[39;00mname\u001b[38;5;132;01m}\u001b[39;00m\u001b[33m not found\u001b[39m\u001b[33m\"\u001b[39m)\n\u001b[32m---> \u001b[39m\u001b[32m11\u001b[39m \u001b[43mscreenshot_by_monitor_name\u001b[49m\u001b[43m(\u001b[49m\u001b[43m)\u001b[49m\n",
      "\u001b[36mCell\u001b[39m\u001b[36m \u001b[39m\u001b[32mIn[30]\u001b[39m\u001b[32m, line 10\u001b[39m, in \u001b[36mscreenshot_by_monitor_name\u001b[39m\u001b[34m(name, output)\u001b[39m\n\u001b[32m      8\u001b[39m             mss.tools.to_png(sct_img.rgb, sct_img.size, output=output)\n\u001b[32m      9\u001b[39m             \u001b[38;5;28;01mreturn\u001b[39;00m output\n\u001b[32m---> \u001b[39m\u001b[32m10\u001b[39m \u001b[38;5;28;01mraise\u001b[39;00m \u001b[38;5;167;01mValueError\u001b[39;00m(\u001b[33mf\u001b[39m\u001b[33m\"\u001b[39m\u001b[33mMonitor \u001b[39m\u001b[38;5;132;01m{\u001b[39;00mname\u001b[38;5;132;01m}\u001b[39;00m\u001b[33m not found\u001b[39m\u001b[33m\"\u001b[39m)\n",
      "\u001b[31mValueError\u001b[39m: Monitor eDP-1 not found"
     ]
    }
   ],
   "source": [
    "import mss\n",
    "\n",
    "def screenshot_by_monitor_name(name=\"eDP-1\", output=\"screenshot.png\"):\n",
    "    with mss.mss() as sct:\n",
    "        for monitor in sct.monitors[1:]:  # skip all-in-one\n",
    "            if name in monitor.get('name', ''):\n",
    "                sct_img = sct.grab(monitor)\n",
    "                mss.tools.to_png(sct_img.rgb, sct_img.size, output=output)\n",
    "                return output\n",
    "    raise ValueError(f\"Monitor {name} not found\")\n",
    "screenshot_by_monitor_name()"
   ]
  },
  {
   "cell_type": "code",
   "execution_count": 32,
   "id": "13de45ca",
   "metadata": {},
   "outputs": [
    {
     "name": "stdout",
     "output_type": "stream",
     "text": [
      "{'width': 1920, 'height': 1080, 'x': 1600, 'y': 0}\n"
     ]
    }
   ],
   "source": [
    "import subprocess\n",
    "import re\n",
    "\n",
    "def get_monitor_geometry(name):\n",
    "    output = subprocess.check_output(['xrandr']).decode()\n",
    "    match = re.search(rf'^{name} connected.*?(\\d+)x(\\d+)\\+(\\d+)\\+(\\d+)', output, re.MULTILINE)\n",
    "    if match:\n",
    "        width, height, x, y = map(int, match.groups())\n",
    "        return {\"width\": width, \"height\": height, \"x\": x, \"y\": y}\n",
    "    return None\n",
    "\n",
    "geometry = get_monitor_geometry(\"HDMI-1\")\n",
    "print(geometry)\n"
   ]
  }
 ],
 "metadata": {
  "kernelspec": {
   "display_name": ".venv",
   "language": "python",
   "name": "python3"
  },
  "language_info": {
   "codemirror_mode": {
    "name": "ipython",
    "version": 3
   },
   "file_extension": ".py",
   "mimetype": "text/x-python",
   "name": "python",
   "nbconvert_exporter": "python",
   "pygments_lexer": "ipython3",
   "version": "3.13.3"
  }
 },
 "nbformat": 4,
 "nbformat_minor": 5
}
