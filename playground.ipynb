{
 "cells": [
  {
   "cell_type": "code",
   "execution_count": 24,
   "id": "f0dba1d4",
   "metadata": {},
   "outputs": [],
   "source": [
    "import subprocess\n",
    "import re\n",
    "import json\n",
    "\n",
    "def get_monitor_info():\n",
    "    monitors_raw = subprocess.check_output([\"xrandr\", \"--listmonitors\"], text=True).strip().split('\\n')[1:]\n",
    "    monitors = []\n",
    "    for line in monitors_raw:\n",
    "        parts = re.split(r'\\s+', line.strip())\n",
    "        monitor_id = parts[1].lstrip('+*')\n",
    "        width_px = int(parts[2].split('+')[0].split('x')[0].split('/')[0])\n",
    "        height_px = int(parts[2].split('+')[0].split('x')[1].split('/')[0])\n",
    "        aspect_ratio = round(width_px / height_px, 2) if height_px else None\n",
    "        monitors.append({\n",
    "            \"monitor_id\": monitor_id,\n",
    "            \"resolution\": f\"{width_px}x{height_px}\",\n",
    "            \"aspect_ratio\": aspect_ratio,\n",
    "        })\n",
    "    return monitors\n",
    "\n",
    "def get_window_info():\n",
    "    windows_raw = subprocess.check_output([\"wmctrl\", \"-lGx\"], text=True).strip().split('\\n')\n",
    "    windows = []\n",
    "    for line in windows_raw:\n",
    "        parts = line.split(None, 9)\n",
    "        if len(parts) < 10:\n",
    "            continue\n",
    "        window_id = parts[0]\n",
    "        x, y, w, h = map(int, parts[2:6])\n",
    "        wm_class = parts[6]  # e.g. 'google-chrome.Google-chrome'\n",
    "        \n",
    "        window_name = parts[9].strip()\n",
    "        aspect_ratio = round(w / h, 2) if h else None\n",
    "        app_name = wm_class.split('.')[0] if wm_class else None\n",
    "        windows.append({\n",
    "            \"window_id\": window_id,\n",
    "            \"window_name\": window_name,\n",
    "            \"application\": app_name,\n",
    "            \"resolution\": f\"{w}x{h}\",\n",
    "            \"aspect_ratio\": aspect_ratio,\n",
    "        })\n",
    "    return windows\n",
    "\n",
    "def list_monitors_and_windows_json():\n",
    "    monitors = get_monitor_info()\n",
    "    windows = get_window_info()\n",
    "    return {\"monitors\": monitors, \"windows\": windows}\n"
   ]
  }
 ],
 "metadata": {
  "kernelspec": {
   "display_name": ".venv",
   "language": "python",
   "name": "python3"
  },
  "language_info": {
   "codemirror_mode": {
    "name": "ipython",
    "version": 3
   },
   "file_extension": ".py",
   "mimetype": "text/x-python",
   "name": "python",
   "nbconvert_exporter": "python",
   "pygments_lexer": "ipython3",
   "version": "3.13.3"
  }
 },
 "nbformat": 4,
 "nbformat_minor": 5
}
